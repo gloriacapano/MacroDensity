{
 "cells": [
  {
   "cell_type": "markdown",
   "metadata": {},
   "source": [
    "# Ionisation potential of a bulk material\n",
    "\n",
    "In this example we use `MacroDensity` with `VASP` to align the energy levels of a simple bulk material.\n",
    "\n",
    "The procedure involves two DFT calculations, yielding different important values\n",
    "\n",
    "* **A bulk calculation**, this provides us with the VBM eigenvalue under the assumption of zero potential ($\\epsilon_{vbm}$)\n",
    "* **A slab calculation**, this provides us with the vacuum level with resepct to the potential inside the material, the difference between these values is the surface dipole ($D_s$).\n",
    "\n",
    "The ionisation potential ($IP$) is then obtained from:\n",
    "\n",
    "$IP = D_s - \\epsilon_{vbm}$"
   ]
  },
  {
   "cell_type": "code",
   "execution_count": 1,
   "metadata": {},
   "outputs": [],
   "source": [
    "%matplotlib inline\n",
    "import sys\n",
    "sys.path.insert(1, '../../')\n",
    "import macrodensity as md\n",
    "import math\n",
    "import numpy as np\n",
    "import matplotlib.pyplot as plt\n",
    "import matplotlib as mpl"
   ]
  },
  {
   "cell_type": "markdown",
   "metadata": {},
   "source": [
    "# Bulk calculation\n",
    "\n",
    "In this calculation we calculate the eigenvalues of the bulk material, under the assumption of zero average potential.\n",
    "\n",
    "You find the eigenvalues printed after the line \"band No.  band energies     occupation\" in the `OUTCAR`\n",
    "\n",
    "I have written a small script to do this witin MacroDensity - `vasp_tools.get_band_extrema`\n",
    "    \n",
    "Let's try it out on the OUTCAR_bulk file in this directory"
   ]
  },
  {
   "cell_type": "code",
   "execution_count": null,
   "metadata": {},
   "outputs": [],
   "source": [
    "extrema = md.vasp_tools.get_band_extrema('OUTCAR_MoO3_bulk')\n",
    "print extrema"
   ]
  },
  {
   "cell_type": "markdown",
   "metadata": {},
   "source": [
    "## Slab calculation\n",
    "\n",
    "Now we do a calculation of the slab to get the potential profile. Important settings for the `INCAR` file:\n",
    "\n",
    "    LVHAR = .TRUE.  # This generates a LOCPOT file with the potential \n",
    "    \n",
    "In your example directory there should already be a `LOCPOT_MoO3.vasp` file. This is the one we will use to analyse the potential and extract the vacuum level and the surface dipole.\n",
    "\n",
    "In the sample `PlanarAverage.py` file, all we have to edit are the top three lines. Of these the only one that is not obvious is the `lattice_vector` parameter. This is just the periodicity of the slab in the direction normal to the surface. In the picture below, this is just the distance between the layers of SnO$_2$.\n",
    "\n",
    "<img src=\"MoO3.png\">"
   ]
  },
  {
   "cell_type": "code",
   "execution_count": null,
   "metadata": {
    "collapsed": true
   },
   "outputs": [],
   "source": [
    "input_file = 'LOCPOT_MoO3.vasp'\n",
    "lattice_vector = 7.43\n",
    "output_file = 'planar.dat'"
   ]
  },
  {
   "cell_type": "markdown",
   "metadata": {},
   "source": [
    "### The code below is set in the PlanarAverage.py file; you don't need to edit it"
   ]
  },
  {
   "cell_type": "code",
   "execution_count": null,
   "metadata": {},
   "outputs": [],
   "source": [
    "vasp_pot, NGX, NGY, NGZ, Lattice = md.read_vasp_density(input_file)\n",
    "vector_a,vector_b,vector_c,av,bv,cv = md.matrix_2_abc(Lattice)\n",
    "resolution_x = vector_a/NGX\n",
    "resolution_y = vector_b/NGY\n",
    "resolution_z = vector_c/NGZ\n",
    "grid_pot, electrons = md.density_2_grid(vasp_pot,NGX,NGY,NGZ)"
   ]
  },
  {
   "cell_type": "markdown",
   "metadata": {},
   "source": [
    "### The code below will prompt you to say which axis you want to average along"
   ]
  },
  {
   "cell_type": "code",
   "execution_count": null,
   "metadata": {},
   "outputs": [],
   "source": [
    "## POTENTIAL\n",
    "planar = md.planar_average(grid_pot,NGX,NGY,NGZ)\n",
    "## MACROSCOPIC AVERAGE\n",
    "macro  = md.macroscopic_average(planar,lattice_vector,resolution_z)"
   ]
  },
  {
   "cell_type": "markdown",
   "metadata": {},
   "source": [
    "### Now we can plot the results"
   ]
  },
  {
   "cell_type": "code",
   "execution_count": null,
   "metadata": {
    "scrolled": true
   },
   "outputs": [],
   "source": [
    "fig, ax1 = plt.subplots(1, 1, sharex=True)\n",
    "\n",
    "textsize = 22\n",
    "mpl.rcParams['xtick.labelsize'] = textsize\n",
    "mpl.rcParams['ytick.labelsize'] = textsize\n",
    "mpl.rcParams['figure.figsize'] = (10, 6)\n",
    "\n",
    "ax1.plot(planar,label=\"Planar\",lw=3)\n",
    "ax1.plot(macro,label=\"Macroscopic\",lw=3)\n",
    "\n",
    "ax1.set_xlim(0,len(planar))\n",
    "\n",
    "ax1.set_facecolor((0.95,0.95,0.95))\n",
    "ax1.grid(True)\n",
    "\n",
    "ax1.legend(fontsize=22)\n",
    "plt.show()\n",
    "np.savetxt(output_file,macro)"
   ]
  },
  {
   "cell_type": "markdown",
   "metadata": {},
   "source": [
    "### PROTIP\n",
    "\n",
    "Sometimes the macroscopic average potential in the slab still looks very wavey. In this case it is sometimes required to increase the `lattice_vector` setting from earlier, since there are sometimes numerical effects. "
   ]
  },
  {
   "cell_type": "markdown",
   "metadata": {},
   "source": [
    "### Get the surface dipole ($D_s$)\n",
    "\n",
    "From inspection of the macroscopic average, saved in `planar.dat` we can find that the value of $V$ at each plateau is 6.58 V and -3.93 V. So the step $D_s$ is 10.51 V\n",
    "\n",
    "### The offset\n",
    "\n",
    "Applying the equation from earlier, the IP is \n",
    "\n"
   ]
  },
  {
   "cell_type": "code",
   "execution_count": null,
   "metadata": {},
   "outputs": [],
   "source": [
    "print\"IP: %10.4f eV\"%(10.51 - 1.9483)"
   ]
  },
  {
   "cell_type": "markdown",
   "metadata": {},
   "source": [
    "## Exercise - IP for Bi$_2$O$_3$\n",
    "\n",
    "Use the procedure above and the Bi$_2$O$_3$ files to calculate the IP.\n",
    "\n",
    "Some information to assist with the assignment of `lattice_vector`:\n",
    "\n",
    "   * The $c$ lattice vector of the slab is 45.00 A.\n",
    "   * There are 840 sub-divisions along $c$. This can be set with the `NGZ` flag.\n",
    "   * The cell is 6 repeating unit cells long in the $c$-direction."
   ]
  },
  {
   "cell_type": "code",
   "execution_count": null,
   "metadata": {
    "collapsed": true
   },
   "outputs": [],
   "source": []
  }
 ],
 "metadata": {
  "kernelspec": {
   "display_name": "Python 2",
   "language": "python",
   "name": "python2"
  },
  "language_info": {
   "codemirror_mode": {
    "name": "ipython",
    "version": 2
   },
   "file_extension": ".py",
   "mimetype": "text/x-python",
   "name": "python",
   "nbconvert_exporter": "python",
   "pygments_lexer": "ipython2",
   "version": "2.7.13"
  }
 },
 "nbformat": 4,
 "nbformat_minor": 2
}
